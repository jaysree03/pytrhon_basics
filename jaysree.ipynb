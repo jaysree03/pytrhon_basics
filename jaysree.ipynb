{
 "cells": [
  {
   "cell_type": "code",
   "execution_count": 1,
   "id": "d7067b3e",
   "metadata": {},
   "outputs": [],
   "source": [
    "string=\"jaysree\",\"car\",\"holiday\""
   ]
  },
  {
   "cell_type": "code",
   "execution_count": 2,
   "id": "d71e67b6",
   "metadata": {},
   "outputs": [
    {
     "data": {
      "text/plain": [
       "('jaysree', 'car', 'holiday')"
      ]
     },
     "execution_count": 2,
     "metadata": {},
     "output_type": "execute_result"
    }
   ],
   "source": [
    "string"
   ]
  },
  {
   "cell_type": "code",
   "execution_count": 3,
   "id": "c6440d02",
   "metadata": {},
   "outputs": [
    {
     "name": "stdout",
     "output_type": "stream",
     "text": [
      "('jaysree', 'car', 'holiday')\n"
     ]
    }
   ],
   "source": [
    "print(string)"
   ]
  },
  {
   "cell_type": "code",
   "execution_count": 4,
   "id": "8587ee6a",
   "metadata": {},
   "outputs": [
    {
     "name": "stdout",
     "output_type": "stream",
     "text": [
      "jaysree\n"
     ]
    }
   ],
   "source": [
    "print(\"jaysree\")"
   ]
  },
  {
   "cell_type": "code",
   "execution_count": 5,
   "id": "f79091fa",
   "metadata": {},
   "outputs": [
    {
     "name": "stdout",
     "output_type": "stream",
     "text": [
      "jyothi\n"
     ]
    }
   ],
   "source": [
    "print(\"jyothi\")"
   ]
  },
  {
   "cell_type": "code",
   "execution_count": 6,
   "id": "41b49e66",
   "metadata": {},
   "outputs": [
    {
     "name": "stdout",
     "output_type": "stream",
     "text": [
      "school\n"
     ]
    }
   ],
   "source": [
    "print(\"school\")"
   ]
  },
  {
   "cell_type": "code",
   "execution_count": 7,
   "id": "25ff3f96",
   "metadata": {},
   "outputs": [
    {
     "name": "stdout",
     "output_type": "stream",
     "text": [
      "college\n"
     ]
    }
   ],
   "source": [
    "print(\"college\")"
   ]
  },
  {
   "cell_type": "code",
   "execution_count": 8,
   "id": "aa42ba94",
   "metadata": {},
   "outputs": [],
   "source": [
    "s=[1,2,3,4,5]"
   ]
  },
  {
   "cell_type": "code",
   "execution_count": 9,
   "id": "8c4db536",
   "metadata": {},
   "outputs": [
    {
     "data": {
      "text/plain": [
       "[1, 2, 3, 4, 5]"
      ]
     },
     "execution_count": 9,
     "metadata": {},
     "output_type": "execute_result"
    }
   ],
   "source": [
    "s"
   ]
  },
  {
   "cell_type": "code",
   "execution_count": 10,
   "id": "86e11fe0",
   "metadata": {},
   "outputs": [],
   "source": [
    "  s1=[1,2,3,4,5]"
   ]
  },
  {
   "cell_type": "code",
   "execution_count": 11,
   "id": "be780f81",
   "metadata": {},
   "outputs": [
    {
     "data": {
      "text/plain": [
       "[1, 2, 3, 4, 5]"
      ]
     },
     "execution_count": 11,
     "metadata": {},
     "output_type": "execute_result"
    }
   ],
   "source": [
    "s1"
   ]
  },
  {
   "cell_type": "code",
   "execution_count": 12,
   "id": "dee5eecd",
   "metadata": {},
   "outputs": [],
   "source": [
    "s1=[1]"
   ]
  },
  {
   "cell_type": "code",
   "execution_count": 13,
   "id": "d07a6694",
   "metadata": {},
   "outputs": [
    {
     "data": {
      "text/plain": [
       "[1]"
      ]
     },
     "execution_count": 13,
     "metadata": {},
     "output_type": "execute_result"
    }
   ],
   "source": [
    "s1"
   ]
  },
  {
   "cell_type": "code",
   "execution_count": 14,
   "id": "9f77ef5d",
   "metadata": {},
   "outputs": [],
   "source": [
    "s1=[\"jaysree\",\"car\",\"van\"]"
   ]
  },
  {
   "cell_type": "code",
   "execution_count": 15,
   "id": "10c72b1e",
   "metadata": {},
   "outputs": [
    {
     "data": {
      "text/plain": [
       "['jaysree', 'car', 'van']"
      ]
     },
     "execution_count": 15,
     "metadata": {},
     "output_type": "execute_result"
    }
   ],
   "source": [
    "s1"
   ]
  },
  {
   "cell_type": "code",
   "execution_count": 16,
   "id": "d66a2465",
   "metadata": {},
   "outputs": [
    {
     "data": {
      "text/plain": [
       "'jaysree'"
      ]
     },
     "execution_count": 16,
     "metadata": {},
     "output_type": "execute_result"
    }
   ],
   "source": [
    "s1[0]"
   ]
  },
  {
   "cell_type": "code",
   "execution_count": 17,
   "id": "407d0100",
   "metadata": {},
   "outputs": [
    {
     "data": {
      "text/plain": [
       "'car'"
      ]
     },
     "execution_count": 17,
     "metadata": {},
     "output_type": "execute_result"
    }
   ],
   "source": [
    "s1[1]"
   ]
  },
  {
   "cell_type": "code",
   "execution_count": 18,
   "id": "3291f557",
   "metadata": {},
   "outputs": [
    {
     "data": {
      "text/plain": [
       "'van'"
      ]
     },
     "execution_count": 18,
     "metadata": {},
     "output_type": "execute_result"
    }
   ],
   "source": [
    "s1[2]"
   ]
  },
  {
   "cell_type": "code",
   "execution_count": 19,
   "id": "27d0b21a",
   "metadata": {},
   "outputs": [],
   "source": [
    "jaysree=(\"i am jaysree from hyd and i stay in balapur\")"
   ]
  },
  {
   "cell_type": "code",
   "execution_count": 20,
   "id": "ff882b78",
   "metadata": {},
   "outputs": [
    {
     "name": "stdout",
     "output_type": "stream",
     "text": [
      "i am jaysree from hyd and i stay in balapur\n"
     ]
    }
   ],
   "source": [
    "print(jaysree)"
   ]
  },
  {
   "cell_type": "code",
   "execution_count": 21,
   "id": "bf917fb3",
   "metadata": {},
   "outputs": [
    {
     "data": {
      "text/plain": [
       "'i'"
      ]
     },
     "execution_count": 21,
     "metadata": {},
     "output_type": "execute_result"
    }
   ],
   "source": [
    "jaysree[0]"
   ]
  },
  {
   "cell_type": "code",
   "execution_count": 22,
   "id": "d3adbaa1",
   "metadata": {},
   "outputs": [
    {
     "data": {
      "text/plain": [
       "' '"
      ]
     },
     "execution_count": 22,
     "metadata": {},
     "output_type": "execute_result"
    }
   ],
   "source": [
    "jaysree[1]"
   ]
  },
  {
   "cell_type": "code",
   "execution_count": 23,
   "id": "bb341b58",
   "metadata": {},
   "outputs": [
    {
     "data": {
      "text/plain": [
       "'a'"
      ]
     },
     "execution_count": 23,
     "metadata": {},
     "output_type": "execute_result"
    }
   ],
   "source": [
    "jaysree[2]"
   ]
  },
  {
   "cell_type": "code",
   "execution_count": 24,
   "id": "25ed0f93",
   "metadata": {},
   "outputs": [
    {
     "data": {
      "text/plain": [
       "'m'"
      ]
     },
     "execution_count": 24,
     "metadata": {},
     "output_type": "execute_result"
    }
   ],
   "source": [
    "jaysree[3]"
   ]
  },
  {
   "cell_type": "code",
   "execution_count": 25,
   "id": "645b3f93",
   "metadata": {},
   "outputs": [
    {
     "data": {
      "text/plain": [
       "' '"
      ]
     },
     "execution_count": 25,
     "metadata": {},
     "output_type": "execute_result"
    }
   ],
   "source": [
    "jaysree[4]"
   ]
  },
  {
   "cell_type": "code",
   "execution_count": 27,
   "id": "25d3c5ec",
   "metadata": {},
   "outputs": [
    {
     "data": {
      "text/plain": [
       "'j'"
      ]
     },
     "execution_count": 27,
     "metadata": {},
     "output_type": "execute_result"
    }
   ],
   "source": [
    "jaysree[5]"
   ]
  },
  {
   "cell_type": "code",
   "execution_count": 28,
   "id": "bd38cf02",
   "metadata": {},
   "outputs": [
    {
     "data": {
      "text/plain": [
       "'a'"
      ]
     },
     "execution_count": 28,
     "metadata": {},
     "output_type": "execute_result"
    }
   ],
   "source": [
    "jaysree[6]"
   ]
  },
  {
   "cell_type": "code",
   "execution_count": 29,
   "id": "e54fe2ee",
   "metadata": {},
   "outputs": [
    {
     "data": {
      "text/plain": [
       "'y'"
      ]
     },
     "execution_count": 29,
     "metadata": {},
     "output_type": "execute_result"
    }
   ],
   "source": [
    "jaysree[7]"
   ]
  },
  {
   "cell_type": "code",
   "execution_count": 30,
   "id": "65ce1d27",
   "metadata": {},
   "outputs": [
    {
     "data": {
      "text/plain": [
       "'s'"
      ]
     },
     "execution_count": 30,
     "metadata": {},
     "output_type": "execute_result"
    }
   ],
   "source": [
    "jaysree[8]"
   ]
  },
  {
   "cell_type": "code",
   "execution_count": 31,
   "id": "d7d3cd24",
   "metadata": {},
   "outputs": [
    {
     "data": {
      "text/plain": [
       "'r'"
      ]
     },
     "execution_count": 31,
     "metadata": {},
     "output_type": "execute_result"
    }
   ],
   "source": [
    "jaysree[9]"
   ]
  },
  {
   "cell_type": "code",
   "execution_count": 32,
   "id": "9e627257",
   "metadata": {},
   "outputs": [
    {
     "data": {
      "text/plain": [
       "'e'"
      ]
     },
     "execution_count": 32,
     "metadata": {},
     "output_type": "execute_result"
    }
   ],
   "source": [
    "jaysree[10]"
   ]
  },
  {
   "cell_type": "code",
   "execution_count": 33,
   "id": "ad4cee14",
   "metadata": {},
   "outputs": [
    {
     "data": {
      "text/plain": [
       "'e'"
      ]
     },
     "execution_count": 33,
     "metadata": {},
     "output_type": "execute_result"
    }
   ],
   "source": [
    "jaysree[11]"
   ]
  },
  {
   "cell_type": "code",
   "execution_count": 34,
   "id": "9c6f411e",
   "metadata": {},
   "outputs": [
    {
     "data": {
      "text/plain": [
       "' '"
      ]
     },
     "execution_count": 34,
     "metadata": {},
     "output_type": "execute_result"
    }
   ],
   "source": [
    "jaysree[12]"
   ]
  },
  {
   "cell_type": "code",
   "execution_count": 35,
   "id": "a0ad10e8",
   "metadata": {},
   "outputs": [
    {
     "data": {
      "text/plain": [
       "'a'"
      ]
     },
     "execution_count": 35,
     "metadata": {},
     "output_type": "execute_result"
    }
   ],
   "source": [
    "jaysree[-6]"
   ]
  },
  {
   "cell_type": "code",
   "execution_count": 36,
   "id": "5db83f85",
   "metadata": {},
   "outputs": [
    {
     "data": {
      "text/plain": [
       "'i'"
      ]
     },
     "execution_count": 36,
     "metadata": {},
     "output_type": "execute_result"
    }
   ],
   "source": [
    "jaysree[-0]"
   ]
  },
  {
   "cell_type": "code",
   "execution_count": 37,
   "id": "cdeb69cb",
   "metadata": {},
   "outputs": [
    {
     "data": {
      "text/plain": [
       "'r'"
      ]
     },
     "execution_count": 37,
     "metadata": {},
     "output_type": "execute_result"
    }
   ],
   "source": [
    "jaysree[-1]"
   ]
  },
  {
   "cell_type": "code",
   "execution_count": 38,
   "id": "ae18e8aa",
   "metadata": {},
   "outputs": [
    {
     "data": {
      "text/plain": [
       "'i am jaysre'"
      ]
     },
     "execution_count": 38,
     "metadata": {},
     "output_type": "execute_result"
    }
   ],
   "source": [
    "jaysree[0:11]"
   ]
  },
  {
   "cell_type": "code",
   "execution_count": 39,
   "id": "bfa27e14",
   "metadata": {},
   "outputs": [],
   "source": [
    "jaysree=\"i write a code\""
   ]
  },
  {
   "cell_type": "code",
   "execution_count": 40,
   "id": "937be3de",
   "metadata": {},
   "outputs": [
    {
     "data": {
      "text/plain": [
       "'i write a code'"
      ]
     },
     "execution_count": 40,
     "metadata": {},
     "output_type": "execute_result"
    }
   ],
   "source": [
    "jaysree"
   ]
  },
  {
   "cell_type": "code",
   "execution_count": 41,
   "id": "af88dd35",
   "metadata": {},
   "outputs": [
    {
     "data": {
      "text/plain": [
       "'i write a cod'"
      ]
     },
     "execution_count": 41,
     "metadata": {},
     "output_type": "execute_result"
    }
   ],
   "source": [
    "jaysree[0:13]"
   ]
  },
  {
   "cell_type": "code",
   "execution_count": 42,
   "id": "c852e62b",
   "metadata": {},
   "outputs": [
    {
     "data": {
      "text/plain": [
       "'i write a code'"
      ]
     },
     "execution_count": 42,
     "metadata": {},
     "output_type": "execute_result"
    }
   ],
   "source": [
    "jaysree[0:14]"
   ]
  },
  {
   "cell_type": "code",
   "execution_count": 43,
   "id": "4c6d69ce",
   "metadata": {},
   "outputs": [
    {
     "data": {
      "text/plain": [
       "'i write a code'"
      ]
     },
     "execution_count": 43,
     "metadata": {},
     "output_type": "execute_result"
    }
   ],
   "source": [
    "jaysree[0:14:1]"
   ]
  },
  {
   "cell_type": "code",
   "execution_count": 44,
   "id": "2e58ff2c",
   "metadata": {},
   "outputs": [
    {
     "data": {
      "text/plain": [
       "'iwieacd'"
      ]
     },
     "execution_count": 44,
     "metadata": {},
     "output_type": "execute_result"
    }
   ],
   "source": [
    "jaysree[0:14:2]"
   ]
  },
  {
   "cell_type": "code",
   "execution_count": null,
   "id": "e70dfcd2",
   "metadata": {},
   "outputs": [],
   "source": []
  }
 ],
 "metadata": {
  "kernelspec": {
   "display_name": "Python 3 (ipykernel)",
   "language": "python",
   "name": "python3"
  },
  "language_info": {
   "codemirror_mode": {
    "name": "ipython",
    "version": 3
   },
   "file_extension": ".py",
   "mimetype": "text/x-python",
   "name": "python",
   "nbconvert_exporter": "python",
   "pygments_lexer": "ipython3",
   "version": "3.10.9"
  }
 },
 "nbformat": 4,
 "nbformat_minor": 5
}
