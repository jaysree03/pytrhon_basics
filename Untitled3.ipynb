{
 "cells": [
  {
   "cell_type": "code",
   "execution_count": 1,
   "id": "f832cec9",
   "metadata": {},
   "outputs": [],
   "source": [
    "a=10\n",
    "b=5"
   ]
  },
  {
   "cell_type": "code",
   "execution_count": 2,
   "id": "9c6a2584",
   "metadata": {},
   "outputs": [
    {
     "name": "stdout",
     "output_type": "stream",
     "text": [
      "True\n"
     ]
    }
   ],
   "source": [
    "print(a>b)"
   ]
  },
  {
   "cell_type": "code",
   "execution_count": 3,
   "id": "f49c7527",
   "metadata": {},
   "outputs": [],
   "source": [
    "car=20\n",
    "bike=40"
   ]
  },
  {
   "cell_type": "code",
   "execution_count": 4,
   "id": "a7493e8b",
   "metadata": {},
   "outputs": [
    {
     "name": "stdout",
     "output_type": "stream",
     "text": [
      "True\n"
     ]
    }
   ],
   "source": [
    "print(bike>car)"
   ]
  },
  {
   "cell_type": "code",
   "execution_count": 5,
   "id": "cddbbe32",
   "metadata": {},
   "outputs": [],
   "source": [
    "a=10\n",
    "b=20"
   ]
  },
  {
   "cell_type": "code",
   "execution_count": 8,
   "id": "29eec84d",
   "metadata": {},
   "outputs": [
    {
     "data": {
      "text/plain": [
       "40"
      ]
     },
     "execution_count": 8,
     "metadata": {},
     "output_type": "execute_result"
    }
   ],
   "source": [
    "a+b"
   ]
  },
  {
   "cell_type": "code",
   "execution_count": 9,
   "id": "b72b0d69",
   "metadata": {},
   "outputs": [],
   "source": [
    "a=10\n",
    "b=5"
   ]
  },
  {
   "cell_type": "code",
   "execution_count": 10,
   "id": "d1bb4a74",
   "metadata": {},
   "outputs": [
    {
     "data": {
      "text/plain": [
       "5"
      ]
     },
     "execution_count": 10,
     "metadata": {},
     "output_type": "execute_result"
    }
   ],
   "source": [
    "a-b"
   ]
  },
  {
   "cell_type": "code",
   "execution_count": 11,
   "id": "217a8063",
   "metadata": {},
   "outputs": [],
   "source": [
    "a=10\n",
    "b=30"
   ]
  },
  {
   "cell_type": "code",
   "execution_count": 12,
   "id": "98f90599",
   "metadata": {},
   "outputs": [
    {
     "data": {
      "text/plain": [
       "300"
      ]
     },
     "execution_count": 12,
     "metadata": {},
     "output_type": "execute_result"
    }
   ],
   "source": [
    "a*b"
   ]
  },
  {
   "cell_type": "code",
   "execution_count": 13,
   "id": "3365b9f3",
   "metadata": {},
   "outputs": [],
   "source": [
    "a=50\n",
    "b=5"
   ]
  },
  {
   "cell_type": "code",
   "execution_count": 14,
   "id": "0f75a361",
   "metadata": {},
   "outputs": [
    {
     "data": {
      "text/plain": [
       "10.0"
      ]
     },
     "execution_count": 14,
     "metadata": {},
     "output_type": "execute_result"
    }
   ],
   "source": [
    "a/b"
   ]
  },
  {
   "cell_type": "code",
   "execution_count": 15,
   "id": "4e602d71",
   "metadata": {},
   "outputs": [
    {
     "data": {
      "text/plain": [
       "0.1"
      ]
     },
     "execution_count": 15,
     "metadata": {},
     "output_type": "execute_result"
    }
   ],
   "source": [
    "b/a"
   ]
  },
  {
   "cell_type": "code",
   "execution_count": 16,
   "id": "4e8b0d6e",
   "metadata": {},
   "outputs": [],
   "source": [
    "car=20\n",
    "pen=40"
   ]
  },
  {
   "cell_type": "code",
   "execution_count": 22,
   "id": "ecdccefd",
   "metadata": {},
   "outputs": [],
   "source": [
    "book=car+pen"
   ]
  },
  {
   "cell_type": "code",
   "execution_count": 23,
   "id": "724d3dc0",
   "metadata": {},
   "outputs": [
    {
     "name": "stdout",
     "output_type": "stream",
     "text": [
      "here we are doing concatination of car and pen value of book is:- 70\n"
     ]
    }
   ],
   "source": [
    "print(\"here we are doing concatination of car and pen value of book is:-\",70)"
   ]
  },
  {
   "cell_type": "code",
   "execution_count": 24,
   "id": "11020159",
   "metadata": {},
   "outputs": [],
   "source": [
    "a=40\n",
    "car=20\n",
    "value=a+car\n",
    "value2=a-car\n",
    "value3=a*car\n",
    "value4=a%car\n",
    "value5=a*100/car"
   ]
  },
  {
   "cell_type": "code",
   "execution_count": 25,
   "id": "31edcfdf",
   "metadata": {},
   "outputs": [
    {
     "name": "stdout",
     "output_type": "stream",
     "text": [
      "we are adding a and car\n"
     ]
    }
   ],
   "source": [
    "print(\"we are adding a and car\")"
   ]
  },
  {
   "cell_type": "code",
   "execution_count": 26,
   "id": "71d1092f",
   "metadata": {},
   "outputs": [
    {
     "name": "stdout",
     "output_type": "stream",
     "text": [
      "60\n"
     ]
    }
   ],
   "source": [
    "print(a+car)"
   ]
  },
  {
   "cell_type": "code",
   "execution_count": 27,
   "id": "6505310c",
   "metadata": {},
   "outputs": [
    {
     "name": "stdout",
     "output_type": "stream",
     "text": [
      "we are subtraction a and car\n"
     ]
    }
   ],
   "source": [
    "print(\"we are subtraction a and car\")"
   ]
  },
  {
   "cell_type": "code",
   "execution_count": 28,
   "id": "c5477403",
   "metadata": {},
   "outputs": [
    {
     "name": "stdout",
     "output_type": "stream",
     "text": [
      "20\n"
     ]
    }
   ],
   "source": [
    "print(a-car)"
   ]
  },
  {
   "cell_type": "code",
   "execution_count": 29,
   "id": "adb5ddff",
   "metadata": {},
   "outputs": [
    {
     "name": "stdout",
     "output_type": "stream",
     "text": [
      "we are multiplying a and car\n"
     ]
    }
   ],
   "source": [
    "print(\"we are multiplying a and car\")"
   ]
  },
  {
   "cell_type": "code",
   "execution_count": 30,
   "id": "635e88f9",
   "metadata": {},
   "outputs": [
    {
     "name": "stdout",
     "output_type": "stream",
     "text": [
      "800\n"
     ]
    }
   ],
   "source": [
    "print(a*car)"
   ]
  },
  {
   "cell_type": "code",
   "execution_count": 31,
   "id": "f1dc5cf0",
   "metadata": {},
   "outputs": [
    {
     "data": {
      "text/plain": [
       "0"
      ]
     },
     "execution_count": 31,
     "metadata": {},
     "output_type": "execute_result"
    }
   ],
   "source": [
    "(a%car)"
   ]
  },
  {
   "cell_type": "code",
   "execution_count": 32,
   "id": "80ca51ee",
   "metadata": {},
   "outputs": [
    {
     "data": {
      "text/plain": [
       "200.0"
      ]
     },
     "execution_count": 32,
     "metadata": {},
     "output_type": "execute_result"
    }
   ],
   "source": [
    "(a*100/car)"
   ]
  },
  {
   "cell_type": "markdown",
   "id": "4a823352",
   "metadata": {},
   "source": [
    "# list manupulation"
   ]
  },
  {
   "cell_type": "code",
   "execution_count": 33,
   "id": "d61eb467",
   "metadata": {},
   "outputs": [],
   "source": [
    "t=(1,2,3,4,5,\"jaysree\")"
   ]
  },
  {
   "cell_type": "code",
   "execution_count": 35,
   "id": "54079e54",
   "metadata": {},
   "outputs": [
    {
     "data": {
      "text/plain": [
       "[1, 2, 3, 4, 5, 'jaysree']"
      ]
     },
     "execution_count": 35,
     "metadata": {},
     "output_type": "execute_result"
    }
   ],
   "source": [
    "list(t)"
   ]
  },
  {
   "cell_type": "code",
   "execution_count": 36,
   "id": "319db0d4",
   "metadata": {},
   "outputs": [],
   "source": [
    "b=list(t)"
   ]
  },
  {
   "cell_type": "code",
   "execution_count": 37,
   "id": "1b5f0ac1",
   "metadata": {},
   "outputs": [
    {
     "data": {
      "text/plain": [
       "list"
      ]
     },
     "execution_count": 37,
     "metadata": {},
     "output_type": "execute_result"
    }
   ],
   "source": [
    "type(b)"
   ]
  },
  {
   "cell_type": "code",
   "execution_count": 40,
   "id": "3dbadbe5",
   "metadata": {},
   "outputs": [],
   "source": [
    "b=(1,2,3,4,5,\"jaysree\",\"bunny\")"
   ]
  },
  {
   "cell_type": "code",
   "execution_count": 42,
   "id": "a3d511cd",
   "metadata": {},
   "outputs": [
    {
     "data": {
      "text/plain": [
       "[1, 2, 3, 4, 5, 'jaysree', 'bunny']"
      ]
     },
     "execution_count": 42,
     "metadata": {},
     "output_type": "execute_result"
    }
   ],
   "source": [
    "list(b)"
   ]
  },
  {
   "cell_type": "markdown",
   "id": "86a6e413",
   "metadata": {},
   "source": [
    "# conditions"
   ]
  },
  {
   "cell_type": "code",
   "execution_count": null,
   "id": "1bbb6884",
   "metadata": {},
   "outputs": [],
   "source": []
  }
 ],
 "metadata": {
  "kernelspec": {
   "display_name": "Python 3 (ipykernel)",
   "language": "python",
   "name": "python3"
  },
  "language_info": {
   "codemirror_mode": {
    "name": "ipython",
    "version": 3
   },
   "file_extension": ".py",
   "mimetype": "text/x-python",
   "name": "python",
   "nbconvert_exporter": "python",
   "pygments_lexer": "ipython3",
   "version": "3.10.9"
  }
 },
 "nbformat": 4,
 "nbformat_minor": 5
}
