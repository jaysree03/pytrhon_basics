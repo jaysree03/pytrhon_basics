{
 "cells": [
  {
   "cell_type": "code",
   "execution_count": null,
   "id": "8a88fa71",
   "metadata": {},
   "outputs": [],
   "source": [
    "* is an expression"
   ]
  },
  {
   "cell_type": "code",
   "execution_count": null,
   "id": "1260dab4",
   "metadata": {},
   "outputs": [],
   "source": [
    "'hello'is str"
   ]
  },
  {
   "cell_type": "code",
   "execution_count": null,
   "id": "f255169e",
   "metadata": {},
   "outputs": [],
   "source": [
    "-87.8 is int"
   ]
  },
  {
   "cell_type": "code",
   "execution_count": null,
   "id": "eeea63cd",
   "metadata": {},
   "outputs": [],
   "source": [
    "-,/,+ is expression"
   ]
  },
  {
   "cell_type": "code",
   "execution_count": null,
   "id": "51cef763",
   "metadata": {},
   "outputs": [],
   "source": [
    "6 is int"
   ]
  },
  {
   "cell_type": "code",
   "execution_count": null,
   "id": "f409c0ed",
   "metadata": {},
   "outputs": [],
   "source": [
    "variable stores data while str is a word quoted in single or double quotation marks"
   ]
  },
  {
   "cell_type": "code",
   "execution_count": null,
   "id": "8a5ab94b",
   "metadata": {},
   "outputs": [],
   "source": [
    "data types are numerical, arthmetic, categorical"
   ]
  },
  {
   "cell_type": "code",
   "execution_count": 4,
   "id": "15b847c8",
   "metadata": {},
   "outputs": [],
   "source": [
    "bacon=22"
   ]
  },
  {
   "cell_type": "code",
   "execution_count": 5,
   "id": "ed35d169",
   "metadata": {},
   "outputs": [
    {
     "name": "stdout",
     "output_type": "stream",
     "text": [
      "23\n"
     ]
    }
   ],
   "source": [
    "print(bacon+1)"
   ]
  },
  {
   "cell_type": "code",
   "execution_count": 6,
   "id": "850aa218",
   "metadata": {},
   "outputs": [
    {
     "data": {
      "text/plain": [
       "'spamspamspam'"
      ]
     },
     "execution_count": 6,
     "metadata": {},
     "output_type": "execute_result"
    }
   ],
   "source": [
    "'spam'+ 'spamspam'"
   ]
  },
  {
   "cell_type": "code",
   "execution_count": 7,
   "id": "4d1259c1",
   "metadata": {},
   "outputs": [
    {
     "data": {
      "text/plain": [
       "'spamspamspam'"
      ]
     },
     "execution_count": 7,
     "metadata": {},
     "output_type": "execute_result"
    }
   ],
   "source": [
    "'spam'*3"
   ]
  },
  {
   "cell_type": "code",
   "execution_count": null,
   "id": "4d79e923",
   "metadata": {},
   "outputs": [],
   "source": [
    "variable names cannot begin with a number"
   ]
  },
  {
   "cell_type": "raw",
   "id": "2c7c9080",
   "metadata": {},
   "source": [
    "integers are zero,positive or nagative. whole numbers without a fractional p having umlimited precision eg: 0,100,-10. the \n",
    "followings are validinteger literals in p 00>>>100100>>>-10-10>>>>>>"
   ]
  },
  {
   "cell_type": "code",
   "execution_count": 8,
   "id": "3f324c94",
   "metadata": {},
   "outputs": [
    {
     "data": {
      "text/plain": [
       "'i have eaten99burritos'"
      ]
     },
     "execution_count": 8,
     "metadata": {},
     "output_type": "execute_result"
    }
   ],
   "source": [
    "'i have eaten'+'99'+'burritos'"
   ]
  },
  {
   "cell_type": "code",
   "execution_count": null,
   "id": "f709b576",
   "metadata": {},
   "outputs": [],
   "source": []
  }
 ],
 "metadata": {
  "kernelspec": {
   "display_name": "Python 3 (ipykernel)",
   "language": "python",
   "name": "python3"
  },
  "language_info": {
   "codemirror_mode": {
    "name": "ipython",
    "version": 3
   },
   "file_extension": ".py",
   "mimetype": "text/x-python",
   "name": "python",
   "nbconvert_exporter": "python",
   "pygments_lexer": "ipython3",
   "version": "3.10.9"
  }
 },
 "nbformat": 4,
 "nbformat_minor": 5
}
