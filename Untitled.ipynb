{
 "cells": [
  {
   "cell_type": "code",
   "execution_count": 1,
   "id": "dc915f71",
   "metadata": {},
   "outputs": [],
   "source": [
    "name=\"jaysree\""
   ]
  },
  {
   "cell_type": "code",
   "execution_count": 2,
   "id": "bce732cb",
   "metadata": {},
   "outputs": [
    {
     "data": {
      "text/plain": [
       "'jaysree'"
      ]
     },
     "execution_count": 2,
     "metadata": {},
     "output_type": "execute_result"
    }
   ],
   "source": [
    "name"
   ]
  },
  {
   "cell_type": "code",
   "execution_count": 3,
   "id": "bd3bbfe1",
   "metadata": {},
   "outputs": [],
   "source": [
    "college=\"kmics\""
   ]
  },
  {
   "cell_type": "code",
   "execution_count": 4,
   "id": "ae54548e",
   "metadata": {},
   "outputs": [
    {
     "data": {
      "text/plain": [
       "'kmics'"
      ]
     },
     "execution_count": 4,
     "metadata": {},
     "output_type": "execute_result"
    }
   ],
   "source": [
    "college"
   ]
  },
  {
   "cell_type": "code",
   "execution_count": 5,
   "id": "ecacffeb",
   "metadata": {},
   "outputs": [],
   "source": [
    "bmw=\"x1\""
   ]
  },
  {
   "cell_type": "code",
   "execution_count": 6,
   "id": "475008e8",
   "metadata": {},
   "outputs": [
    {
     "data": {
      "text/plain": [
       "'x1'"
      ]
     },
     "execution_count": 6,
     "metadata": {},
     "output_type": "execute_result"
    }
   ],
   "source": [
    "bmw"
   ]
  },
  {
   "cell_type": "code",
   "execution_count": 7,
   "id": "c9e21f7f",
   "metadata": {},
   "outputs": [],
   "source": [
    "car=\"bmw\""
   ]
  },
  {
   "cell_type": "code",
   "execution_count": 8,
   "id": "03a3874b",
   "metadata": {},
   "outputs": [
    {
     "data": {
      "text/plain": [
       "'bmw'"
      ]
     },
     "execution_count": 8,
     "metadata": {},
     "output_type": "execute_result"
    }
   ],
   "source": [
    "car"
   ]
  },
  {
   "cell_type": "code",
   "execution_count": 9,
   "id": "372522f6",
   "metadata": {},
   "outputs": [],
   "source": [
    "number=\"2023\""
   ]
  },
  {
   "cell_type": "code",
   "execution_count": 10,
   "id": "117c6e54",
   "metadata": {},
   "outputs": [
    {
     "data": {
      "text/plain": [
       "'2023'"
      ]
     },
     "execution_count": 10,
     "metadata": {},
     "output_type": "execute_result"
    }
   ],
   "source": [
    "number"
   ]
  },
  {
   "cell_type": "code",
   "execution_count": 11,
   "id": "878d00e2",
   "metadata": {},
   "outputs": [
    {
     "data": {
      "text/plain": [
       "str"
      ]
     },
     "execution_count": 11,
     "metadata": {},
     "output_type": "execute_result"
    }
   ],
   "source": [
    "type(number)"
   ]
  },
  {
   "cell_type": "code",
   "execution_count": 12,
   "id": "945381f3",
   "metadata": {},
   "outputs": [],
   "source": [
    "number1=2023"
   ]
  },
  {
   "cell_type": "code",
   "execution_count": 13,
   "id": "197c86f8",
   "metadata": {},
   "outputs": [
    {
     "data": {
      "text/plain": [
       "2023"
      ]
     },
     "execution_count": 13,
     "metadata": {},
     "output_type": "execute_result"
    }
   ],
   "source": [
    "number1"
   ]
  },
  {
   "cell_type": "code",
   "execution_count": 14,
   "id": "2bdc5c03",
   "metadata": {},
   "outputs": [
    {
     "data": {
      "text/plain": [
       "int"
      ]
     },
     "execution_count": 14,
     "metadata": {},
     "output_type": "execute_result"
    }
   ],
   "source": [
    "type(number1)"
   ]
  },
  {
   "cell_type": "code",
   "execution_count": 15,
   "id": "d6efe36b",
   "metadata": {},
   "outputs": [],
   "source": [
    "number1=\"jaysree\""
   ]
  },
  {
   "cell_type": "code",
   "execution_count": 16,
   "id": "6a33f0de",
   "metadata": {},
   "outputs": [
    {
     "ename": "SyntaxError",
     "evalue": "invalid decimal literal (674113312.py, line 1)",
     "output_type": "error",
     "traceback": [
      "\u001b[1;36m  Cell \u001b[1;32mIn[16], line 1\u001b[1;36m\u001b[0m\n\u001b[1;33m    1number=\"jaysree\"\u001b[0m\n\u001b[1;37m    ^\u001b[0m\n\u001b[1;31mSyntaxError\u001b[0m\u001b[1;31m:\u001b[0m invalid decimal literal\n"
     ]
    }
   ],
   "source": [
    "1number=\"jaysree\""
   ]
  },
  {
   "cell_type": "code",
   "execution_count": 17,
   "id": "f7984e73",
   "metadata": {},
   "outputs": [],
   "source": [
    "s=(1,2,3,4,5,6,7)"
   ]
  },
  {
   "cell_type": "code",
   "execution_count": 18,
   "id": "b99a3a8b",
   "metadata": {},
   "outputs": [
    {
     "data": {
      "text/plain": [
       "(1, 2, 3, 4, 5, 6, 7)"
      ]
     },
     "execution_count": 18,
     "metadata": {},
     "output_type": "execute_result"
    }
   ],
   "source": [
    "s"
   ]
  },
  {
   "cell_type": "code",
   "execution_count": 19,
   "id": "34db7fb4",
   "metadata": {},
   "outputs": [
    {
     "data": {
      "text/plain": [
       "tuple"
      ]
     },
     "execution_count": 19,
     "metadata": {},
     "output_type": "execute_result"
    }
   ],
   "source": [
    "type(s)"
   ]
  },
  {
   "cell_type": "code",
   "execution_count": 20,
   "id": "2e00a896",
   "metadata": {},
   "outputs": [],
   "source": [
    "s1=(\"jaysree\",\"coding\",\"😜\")"
   ]
  },
  {
   "cell_type": "code",
   "execution_count": 21,
   "id": "8cefdd26",
   "metadata": {},
   "outputs": [
    {
     "data": {
      "text/plain": [
       "('jaysree', 'coding', '😜')"
      ]
     },
     "execution_count": 21,
     "metadata": {},
     "output_type": "execute_result"
    }
   ],
   "source": [
    "s1"
   ]
  },
  {
   "cell_type": "code",
   "execution_count": 22,
   "id": "53d116aa",
   "metadata": {},
   "outputs": [],
   "source": [
    "car=[\"bmw\",\"audi\",\"volvo\",\"benz\"]"
   ]
  },
  {
   "cell_type": "code",
   "execution_count": 23,
   "id": "67d0e765",
   "metadata": {},
   "outputs": [
    {
     "data": {
      "text/plain": [
       "['bmw', 'audi', 'volvo', 'benz']"
      ]
     },
     "execution_count": 23,
     "metadata": {},
     "output_type": "execute_result"
    }
   ],
   "source": [
    "car"
   ]
  },
  {
   "cell_type": "code",
   "execution_count": 24,
   "id": "e87e474f",
   "metadata": {},
   "outputs": [
    {
     "data": {
      "text/plain": [
       "list"
      ]
     },
     "execution_count": 24,
     "metadata": {},
     "output_type": "execute_result"
    }
   ],
   "source": [
    "type(car)"
   ]
  },
  {
   "cell_type": "code",
   "execution_count": 26,
   "id": "b1bba581",
   "metadata": {},
   "outputs": [],
   "source": [
    "jyothi=[\"🐷\"]"
   ]
  },
  {
   "cell_type": "code",
   "execution_count": 27,
   "id": "52984769",
   "metadata": {},
   "outputs": [
    {
     "data": {
      "text/plain": [
       "['🐷']"
      ]
     },
     "execution_count": 27,
     "metadata": {},
     "output_type": "execute_result"
    }
   ],
   "source": [
    "jyothi"
   ]
  },
  {
   "cell_type": "code",
   "execution_count": 28,
   "id": "a973f771",
   "metadata": {},
   "outputs": [],
   "source": [
    "s2={1,2,4,5,\"jaysree\",\"college\",\"coding\",\"phone\"}"
   ]
  },
  {
   "cell_type": "code",
   "execution_count": 29,
   "id": "35266d47",
   "metadata": {},
   "outputs": [
    {
     "data": {
      "text/plain": [
       "{1, 2, 4, 5, 'coding', 'college', 'jaysree', 'phone'}"
      ]
     },
     "execution_count": 29,
     "metadata": {},
     "output_type": "execute_result"
    }
   ],
   "source": [
    "s2"
   ]
  },
  {
   "cell_type": "code",
   "execution_count": 30,
   "id": "d8d7ee4d",
   "metadata": {},
   "outputs": [
    {
     "data": {
      "text/plain": [
       "set"
      ]
     },
     "execution_count": 30,
     "metadata": {},
     "output_type": "execute_result"
    }
   ],
   "source": [
    "type(s2)"
   ]
  },
  {
   "cell_type": "code",
   "execution_count": null,
   "id": "f0088d0f",
   "metadata": {},
   "outputs": [],
   "source": []
  }
 ],
 "metadata": {
  "kernelspec": {
   "display_name": "Python 3 (ipykernel)",
   "language": "python",
   "name": "python3"
  },
  "language_info": {
   "codemirror_mode": {
    "name": "ipython",
    "version": 3
   },
   "file_extension": ".py",
   "mimetype": "text/x-python",
   "name": "python",
   "nbconvert_exporter": "python",
   "pygments_lexer": "ipython3",
   "version": "3.10.9"
  }
 },
 "nbformat": 4,
 "nbformat_minor": 5
}
