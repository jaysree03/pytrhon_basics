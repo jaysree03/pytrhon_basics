{
 "cells": [
  {
   "cell_type": "code",
   "execution_count": 1,
   "id": "d5634ae9",
   "metadata": {},
   "outputs": [],
   "source": [
    "string=\"jaysree\",\"car\",\"holiday\""
   ]
  },
  {
   "cell_type": "code",
   "execution_count": 2,
   "id": "8c9e0adb",
   "metadata": {},
   "outputs": [
    {
     "data": {
      "text/plain": [
       "('jaysree', 'car', 'holiday')"
      ]
     },
     "execution_count": 2,
     "metadata": {},
     "output_type": "execute_result"
    }
   ],
   "source": [
    "string"
   ]
  },
  {
   "cell_type": "code",
   "execution_count": 3,
   "id": "a3dae8e4",
   "metadata": {},
   "outputs": [
    {
     "name": "stdout",
     "output_type": "stream",
     "text": [
      "('jaysree', 'car', 'holiday')\n"
     ]
    }
   ],
   "source": [
    "print(string)"
   ]
  },
  {
   "cell_type": "code",
   "execution_count": 4,
   "id": "833dace9",
   "metadata": {},
   "outputs": [
    {
     "name": "stdout",
     "output_type": "stream",
     "text": [
      "jaysree\n"
     ]
    }
   ],
   "source": [
    "print(\"jaysree\")"
   ]
  },
  {
   "cell_type": "code",
   "execution_count": 5,
   "id": "600c3759",
   "metadata": {},
   "outputs": [
    {
     "name": "stdout",
     "output_type": "stream",
     "text": [
      "jyothi\n"
     ]
    }
   ],
   "source": [
    "print(\"jyothi\")"
   ]
  },
  {
   "cell_type": "code",
   "execution_count": 6,
   "id": "bf00ac32",
   "metadata": {},
   "outputs": [
    {
     "name": "stdout",
     "output_type": "stream",
     "text": [
      "school\n"
     ]
    }
   ],
   "source": [
    "print(\"school\")"
   ]
  },
  {
   "cell_type": "code",
   "execution_count": 7,
   "id": "90ea0583",
   "metadata": {},
   "outputs": [
    {
     "name": "stdout",
     "output_type": "stream",
     "text": [
      "college\n"
     ]
    }
   ],
   "source": [
    "print(\"college\")"
   ]
  },
  {
   "cell_type": "code",
   "execution_count": 8,
   "id": "0968c4f3",
   "metadata": {},
   "outputs": [],
   "source": [
    "s=[1,2,3,4,5]"
   ]
  },
  {
   "cell_type": "code",
   "execution_count": 9,
   "id": "519f1ee9",
   "metadata": {},
   "outputs": [
    {
     "data": {
      "text/plain": [
       "[1, 2, 3, 4, 5]"
      ]
     },
     "execution_count": 9,
     "metadata": {},
     "output_type": "execute_result"
    }
   ],
   "source": [
    "s"
   ]
  },
  {
   "cell_type": "code",
   "execution_count": 10,
   "id": "b1178896",
   "metadata": {},
   "outputs": [],
   "source": [
    "  s1=[1,2,3,4,5]"
   ]
  },
  {
   "cell_type": "code",
   "execution_count": 11,
   "id": "62dfa23a",
   "metadata": {},
   "outputs": [
    {
     "data": {
      "text/plain": [
       "[1, 2, 3, 4, 5]"
      ]
     },
     "execution_count": 11,
     "metadata": {},
     "output_type": "execute_result"
    }
   ],
   "source": [
    "s1"
   ]
  },
  {
   "cell_type": "code",
   "execution_count": 12,
   "id": "e0a2c6ca",
   "metadata": {},
   "outputs": [],
   "source": [
    "s1=[1]"
   ]
  },
  {
   "cell_type": "code",
   "execution_count": 13,
   "id": "a86a0618",
   "metadata": {},
   "outputs": [
    {
     "data": {
      "text/plain": [
       "[1]"
      ]
     },
     "execution_count": 13,
     "metadata": {},
     "output_type": "execute_result"
    }
   ],
   "source": [
    "s1"
   ]
  },
  {
   "cell_type": "code",
   "execution_count": 14,
   "id": "6425e0ff",
   "metadata": {},
   "outputs": [],
   "source": [
    "s1=[\"jaysree\",\"car\",\"van\"]"
   ]
  },
  {
   "cell_type": "code",
   "execution_count": 15,
   "id": "682d3edd",
   "metadata": {},
   "outputs": [
    {
     "data": {
      "text/plain": [
       "['jaysree', 'car', 'van']"
      ]
     },
     "execution_count": 15,
     "metadata": {},
     "output_type": "execute_result"
    }
   ],
   "source": [
    "s1"
   ]
  },
  {
   "cell_type": "code",
   "execution_count": 16,
   "id": "58c9aeb6",
   "metadata": {},
   "outputs": [
    {
     "data": {
      "text/plain": [
       "'jaysree'"
      ]
     },
     "execution_count": 16,
     "metadata": {},
     "output_type": "execute_result"
    }
   ],
   "source": [
    "s1[0]"
   ]
  },
  {
   "cell_type": "code",
   "execution_count": 17,
   "id": "dcf9ab0b",
   "metadata": {},
   "outputs": [
    {
     "data": {
      "text/plain": [
       "'car'"
      ]
     },
     "execution_count": 17,
     "metadata": {},
     "output_type": "execute_result"
    }
   ],
   "source": [
    "s1[1]"
   ]
  },
  {
   "cell_type": "code",
   "execution_count": 18,
   "id": "1c416644",
   "metadata": {},
   "outputs": [
    {
     "data": {
      "text/plain": [
       "'van'"
      ]
     },
     "execution_count": 18,
     "metadata": {},
     "output_type": "execute_result"
    }
   ],
   "source": [
    "s1[2]"
   ]
  },
  {
   "cell_type": "code",
   "execution_count": null,
   "id": "adfcb30f",
   "metadata": {},
   "outputs": [],
   "source": []
  }
 ],
 "metadata": {
  "kernelspec": {
   "display_name": "Python 3 (ipykernel)",
   "language": "python",
   "name": "python3"
  },
  "language_info": {
   "codemirror_mode": {
    "name": "ipython",
    "version": 3
   },
   "file_extension": ".py",
   "mimetype": "text/x-python",
   "name": "python",
   "nbconvert_exporter": "python",
   "pygments_lexer": "ipython3",
   "version": "3.10.9"
  }
 },
 "nbformat": 4,
 "nbformat_minor": 5
}
